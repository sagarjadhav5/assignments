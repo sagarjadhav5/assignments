{
 "cells": [
  {
   "cell_type": "markdown",
   "id": "86f1f01e",
   "metadata": {},
   "source": [
    "# 1. write a function which will try to find out len of a string without using an inbuilt len function"
   ]
  },
  {
   "cell_type": "code",
   "execution_count": 69,
   "id": "88baa8c3",
   "metadata": {},
   "outputs": [],
   "source": [
    "string = 'Python'"
   ]
  },
  {
   "cell_type": "code",
   "execution_count": 70,
   "id": "114cd18a",
   "metadata": {},
   "outputs": [],
   "source": [
    "def string_len(string):\n",
    "    count = 0\n",
    "    for i in string:\n",
    "        count = count + 1\n",
    "    return count"
   ]
  },
  {
   "cell_type": "code",
   "execution_count": 71,
   "id": "e13ff21b",
   "metadata": {},
   "outputs": [
    {
     "data": {
      "text/plain": [
       "6"
      ]
     },
     "execution_count": 71,
     "metadata": {},
     "output_type": "execute_result"
    }
   ],
   "source": [
    "string_len(string)"
   ]
  },
  {
   "cell_type": "markdown",
   "id": "b831ffdb",
   "metadata": {},
   "source": [
    "# 2. write a function which  will be able to print an index of list element without using an index function"
   ]
  },
  {
   "cell_type": "code",
   "execution_count": 72,
   "id": "04c53965",
   "metadata": {},
   "outputs": [],
   "source": [
    "l =  [2, 3, 4 , 5 , 6 , 7 , 8, 9,'python']"
   ]
  },
  {
   "cell_type": "code",
   "execution_count": 73,
   "id": "a9509119",
   "metadata": {},
   "outputs": [],
   "source": [
    "def index_no(ls):\n",
    "    for i in range(len(ls)):\n",
    "        print(i)"
   ]
  },
  {
   "cell_type": "code",
   "execution_count": 15,
   "id": "6edbdae6",
   "metadata": {},
   "outputs": [
    {
     "name": "stdout",
     "output_type": "stream",
     "text": [
      "0\n",
      "1\n",
      "2\n",
      "3\n",
      "4\n",
      "5\n",
      "6\n",
      "7\n",
      "8\n"
     ]
    }
   ],
   "source": [
    "index_no(l)"
   ]
  },
  {
   "cell_type": "markdown",
   "id": "1d9fb528",
   "metadata": {},
   "source": [
    "# 5. write a function which will take input as a list with any kind of numeric value and give an out as a multiplication of all the numeric data "
   ]
  },
  {
   "cell_type": "code",
   "execution_count": 29,
   "id": "f4337bc4",
   "metadata": {},
   "outputs": [],
   "source": [
    "l = [3.5, 6.56, 4,5,\"sudh\" , \"ineuron\" , 'fsda bootcamp 2.0']"
   ]
  },
  {
   "cell_type": "code",
   "execution_count": 39,
   "id": "728fcd7b",
   "metadata": {},
   "outputs": [],
   "source": [
    "def mult_list(l):\n",
    "    mult_val = 1\n",
    "    for i in l:\n",
    "        if type(i) != str:\n",
    "            mult_val = mult_val * i\n",
    "    return mult_val"
   ]
  },
  {
   "cell_type": "code",
   "execution_count": 40,
   "id": "72eabdd0",
   "metadata": {},
   "outputs": [
    {
     "data": {
      "text/plain": [
       "459.19999999999993"
      ]
     },
     "execution_count": 40,
     "metadata": {},
     "output_type": "execute_result"
    }
   ],
   "source": [
    "mult_list(l)"
   ]
  },
  {
   "cell_type": "markdown",
   "id": "79681f1e",
   "metadata": {},
   "source": [
    "# 8. write a function which will be able to read a doc/word file from your system "
   ]
  },
  {
   "cell_type": "code",
   "execution_count": 62,
   "id": "069b18ea",
   "metadata": {},
   "outputs": [],
   "source": [
    "filepath = r\"C:\\Users\\DELL\\Desktop\\dummy.txt\""
   ]
  },
  {
   "cell_type": "code",
   "execution_count": 64,
   "id": "e320fe66",
   "metadata": {},
   "outputs": [],
   "source": [
    "def read_file(filepath):\n",
    "    fd = open(filepath)\n",
    "    return fd.read()"
   ]
  },
  {
   "cell_type": "code",
   "execution_count": 63,
   "id": "2647cece",
   "metadata": {},
   "outputs": [
    {
     "data": {
      "text/plain": [
       "'This is document file.'"
      ]
     },
     "execution_count": 63,
     "metadata": {},
     "output_type": "execute_result"
    }
   ],
   "source": [
    "read_file(filepath)"
   ]
  }
 ],
 "metadata": {
  "kernelspec": {
   "display_name": "Python 3 (ipykernel)",
   "language": "python",
   "name": "python3"
  },
  "language_info": {
   "codemirror_mode": {
    "name": "ipython",
    "version": 3
   },
   "file_extension": ".py",
   "mimetype": "text/x-python",
   "name": "python",
   "nbconvert_exporter": "python",
   "pygments_lexer": "ipython3",
   "version": "3.9.12"
  }
 },
 "nbformat": 4,
 "nbformat_minor": 5
}

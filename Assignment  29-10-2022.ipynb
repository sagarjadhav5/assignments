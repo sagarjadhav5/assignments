{
 "cells": [
  {
   "cell_type": "markdown",
   "id": "c05dd406",
   "metadata": {},
   "source": [
    "# 1. write a function which will try to find out len of a string without using an inbuilt len function"
   ]
  },
  {
   "cell_type": "code",
   "execution_count": 69,
   "id": "a0996ab0",
   "metadata": {},
   "outputs": [],
   "source": [
    "string = 'Python'"
   ]
  },
  {
   "cell_type": "code",
   "execution_count": 70,
   "id": "18777cf5",
   "metadata": {},
   "outputs": [],
   "source": [
    "def string_len(string):\n",
    "    count = 0\n",
    "    for i in string:\n",
    "        count = count + 1\n",
    "    return count"
   ]
  },
  {
   "cell_type": "code",
   "execution_count": 71,
   "id": "c66e4688",
   "metadata": {},
   "outputs": [
    {
     "data": {
      "text/plain": [
       "6"
      ]
     },
     "execution_count": 71,
     "metadata": {},
     "output_type": "execute_result"
    }
   ],
   "source": [
    "string_len(string)"
   ]
  },
  {
   "cell_type": "markdown",
   "id": "cdb8b97b",
   "metadata": {},
   "source": [
    "# 2. write a function which  will be able to print an index of list element without using an index function"
   ]
  },
  {
   "cell_type": "code",
   "execution_count": 72,
   "id": "50164504",
   "metadata": {},
   "outputs": [],
   "source": [
    "l =  [2, 3, 4 , 5 , 6 , 7 , 8, 9,'python']"
   ]
  },
  {
   "cell_type": "code",
   "execution_count": 73,
   "id": "07096c0a",
   "metadata": {},
   "outputs": [],
   "source": [
    "def index_no(ls):\n",
    "    for i in range(len(ls)):\n",
    "        print(i)"
   ]
  },
  {
   "cell_type": "code",
   "execution_count": 15,
   "id": "8c4bc7be",
   "metadata": {},
   "outputs": [
    {
     "name": "stdout",
     "output_type": "stream",
     "text": [
      "0\n",
      "1\n",
      "2\n",
      "3\n",
      "4\n",
      "5\n",
      "6\n",
      "7\n",
      "8\n"
     ]
    }
   ],
   "source": [
    "index_no(l)"
   ]
  },
  {
   "cell_type": "markdown",
   "id": "141a5ed1",
   "metadata": {},
   "source": [
    "# 5. write a function which will take input as a list with any kind of numeric value and give an out as a multiplication of all the numeric data "
   ]
  },
  {
   "cell_type": "code",
   "execution_count": 29,
   "id": "23059b2c",
   "metadata": {},
   "outputs": [],
   "source": [
    "l = [3.5, 6.56, 4,5,\"sudh\" , \"ineuron\" , 'fsda bootcamp 2.0']"
   ]
  },
  {
   "cell_type": "code",
   "execution_count": 39,
   "id": "70b71f61",
   "metadata": {},
   "outputs": [],
   "source": [
    "def mult_list(l):\n",
    "    mult_val = 1\n",
    "    for i in l:\n",
    "        if type(i) != str:\n",
    "            mult_val = mult_val * i\n",
    "    return mult_val"
   ]
  },
  {
   "cell_type": "code",
   "execution_count": 40,
   "id": "d2c37d17",
   "metadata": {},
   "outputs": [
    {
     "data": {
      "text/plain": [
       "459.19999999999993"
      ]
     },
     "execution_count": 40,
     "metadata": {},
     "output_type": "execute_result"
    }
   ],
   "source": [
    "mult_list(l)"
   ]
  },
  {
   "cell_type": "markdown",
   "id": "eb063385",
   "metadata": {},
   "source": [
    "# 8. write a function which will be able to read a doc/word file from your system "
   ]
  },
  {
   "cell_type": "code",
   "execution_count": 62,
   "id": "4474a55a",
   "metadata": {},
   "outputs": [],
   "source": [
    "filepath = r\"C:\\Users\\DELL\\Desktop\\dummy.txt\""
   ]
  },
  {
   "cell_type": "code",
   "execution_count": 64,
   "id": "70d902d3",
   "metadata": {},
   "outputs": [],
   "source": [
    "def read_file(filepath):\n",
    "    fd = open(filepath)\n",
    "    return fd.read()"
   ]
  },
  {
   "cell_type": "code",
   "execution_count": 63,
   "id": "0b728399",
   "metadata": {},
   "outputs": [
    {
     "data": {
      "text/plain": [
       "'This is document file.'"
      ]
     },
     "execution_count": 63,
     "metadata": {},
     "output_type": "execute_result"
    }
   ],
   "source": [
    "read_file(filepath)"
   ]
  },
  {
   "cell_type": "code",
   "execution_count": 75,
   "id": "d50214f1",
   "metadata": {},
   "outputs": [],
   "source": [
    "import mailbox"
   ]
  },
  {
   "cell_type": "code",
   "execution_count": 84,
   "id": "fb564cf9",
   "metadata": {},
   "outputs": [],
   "source": [
    "mbox = mailbox.mbox('Inbox')"
   ]
  },
  {
   "cell_type": "code",
   "execution_count": 81,
   "id": "407f09ca",
   "metadata": {},
   "outputs": [],
   "source": [
    "for message in mbox:\n",
    "    print(i)"
   ]
  },
  {
   "cell_type": "code",
   "execution_count": 86,
   "id": "ef9a15b6",
   "metadata": {},
   "outputs": [
    {
     "ename": "NameError",
     "evalue": "name 'message' is not defined",
     "output_type": "error",
     "traceback": [
      "\u001b[1;31m---------------------------------------------------------------------------\u001b[0m",
      "\u001b[1;31mNameError\u001b[0m                                 Traceback (most recent call last)",
      "Input \u001b[1;32mIn [86]\u001b[0m, in \u001b[0;36m<cell line: 1>\u001b[1;34m()\u001b[0m\n\u001b[1;32m----> 1\u001b[0m \u001b[43mmessage\u001b[49m\n",
      "\u001b[1;31mNameError\u001b[0m: name 'message' is not defined"
     ]
    }
   ],
   "source": [
    "message"
   ]
  },
  {
   "cell_type": "code",
   "execution_count": null,
   "id": "20b17bc2",
   "metadata": {},
   "outputs": [],
   "source": []
  }
 ],
 "metadata": {
  "kernelspec": {
   "display_name": "Python 3 (ipykernel)",
   "language": "python",
   "name": "python3"
  },
  "language_info": {
   "codemirror_mode": {
    "name": "ipython",
    "version": 3
   },
   "file_extension": ".py",
   "mimetype": "text/x-python",
   "name": "python",
   "nbconvert_exporter": "python",
   "pygments_lexer": "ipython3",
   "version": "3.9.12"
  }
 },
 "nbformat": 4,
 "nbformat_minor": 5
}
